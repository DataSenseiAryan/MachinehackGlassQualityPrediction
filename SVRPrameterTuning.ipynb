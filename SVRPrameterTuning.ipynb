{
 "cells": [
  {
   "cell_type": "code",
   "execution_count": null,
   "metadata": {},
   "outputs": [],
   "source": [
    "import pandas as pd \n",
    "import numpy as np\n",
    "from sklearn.model_selection import KFold, cross_val_score, train_test_split\n",
    "from sklearn.linear_model import LogisticRegression\n",
    "from sklearn.preprocessing import KBinsDiscretizer\n",
    "from sklearn.metrics import log_loss\n",
    "\n",
    "from sklearn.ensemble import GradientBoostingClassifier\n",
    "from xgboost import XGBClassifier\n",
    "from lightgbm import LGBMClassifier\n",
    "from sklearn import svm\n"
   ]
  },
  {
   "cell_type": "code",
   "execution_count": null,
   "metadata": {},
   "outputs": [],
   "source": [
    "df = pd.read_csv(\"../MachinehackGlassQualityPrediction/Glass_Quality_Participants_Data/Train.csv\")\n",
    "#tf = pd.read_csv(\"../MachinehackGlassQualityPrediction/Glass_Quality_Participants_Data/Test.csv\")\n",
    "\n",
    "#sf = pd.read_excel(\"../MachinehackGlassQualityPrediction/Glass_Quality_Participants_Data/Sample_Submission.xlsx\")\n"
   ]
  },
  {
   "cell_type": "code",
   "execution_count": null,
   "metadata": {},
   "outputs": [],
   "source": [
    "df['xmax'] = np.sqrt(df['xmax'])\n",
    "df['ymax'] = np.sqrt(df['ymax'])\n",
    "df['xmin'] = np.sqrt(df['xmin'])\n",
    "df['ymin'] = np.sqrt(df['ymin'])\n",
    "\n",
    "df['max_luminosity'] = np.log(df['max_luminosity'])\n",
    "df['pixel_area'] = np.sqrt(df['pixel_area'])\n",
    "df['log_area'] = np.sqrt(df['log_area'])\n",
    "\n",
    "# tf['xmax'] = np.sqrt(tf['xmax'])\n",
    "# tf['ymax'] = np.sqrt(tf['ymax'])\n",
    "# tf['xmin'] = np.sqrt(tf['xmin'])\n",
    "# tf['ymin'] = np.sqrt(tf['ymin'])\n",
    "\n",
    "# tf['max_luminosity'] = np.log(tf['max_luminosity'])\n",
    "# tf['pixel_area'] = np.sqrt(tf['pixel_area'])\n",
    "# tf['log_area'] = np.sqrt(tf['log_area'])\n",
    "\n"
   ]
  },
  {
   "cell_type": "code",
   "execution_count": null,
   "metadata": {},
   "outputs": [],
   "source": [
    "#df =df.drop('pixel_area',axis=1)\n",
    "\n",
    "# tf =tf.drop('log_area',axis=1)"
   ]
  },
  {
   "cell_type": "code",
   "execution_count": null,
   "metadata": {},
   "outputs": [],
   "source": [
    "# adding  interaction new features \n",
    "import itertools\n",
    "interactions = pd.DataFrame(index=df.index)\n",
    "interactions"
   ]
  },
  {
   "cell_type": "code",
   "execution_count": null,
   "metadata": {},
   "outputs": [],
   "source": [
    "features =['max_luminosity','thickness','pixel_area']\n",
    "for col1 ,col2 in  itertools.combinations(features,2):\n",
    "    \n",
    "    newcolname = col1 + \"_\" + col2 \n",
    "    new_values = df[col1].map(str) + \"_\" + df[col2].map(str)\n",
    "    interactions[newcolname] = new_values\n"
   ]
  },
  {
   "cell_type": "code",
   "execution_count": null,
   "metadata": {},
   "outputs": [],
   "source": [
    "# interactions['max_luminosity_thickness']"
   ]
  },
  {
   "cell_type": "code",
   "execution_count": null,
   "metadata": {},
   "outputs": [],
   "source": [
    "#df =df.join(interactions)"
   ]
  },
  {
   "cell_type": "code",
   "execution_count": null,
   "metadata": {},
   "outputs": [],
   "source": [
    "# interactionstest = pd.DataFrame(index=tf.index)\n",
    "# interactionstest"
   ]
  },
  {
   "cell_type": "code",
   "execution_count": null,
   "metadata": {},
   "outputs": [],
   "source": [
    "# features =['max_luminosity','thickness','pixel_area']\n",
    "# for col1 ,col2 in  itertools.combinations(features,2):\n",
    "    \n",
    "#     newcolname = col1 + \"_\" + col2 \n",
    "#     new_values = tf[col1].map(str) + \"_\" + tf[col2].map(str)\n",
    "#     interactionstest[newcolname] = new_values\n"
   ]
  },
  {
   "cell_type": "code",
   "execution_count": null,
   "metadata": {},
   "outputs": [],
   "source": [
    "# tf =tf.join(interactionstest)"
   ]
  },
  {
   "cell_type": "code",
   "execution_count": null,
   "metadata": {},
   "outputs": [],
   "source": [
    "# tf\n",
    "# df['class'] = df['class'].replace(2,0)"
   ]
  },
  {
   "cell_type": "code",
   "execution_count": null,
   "metadata": {},
   "outputs": [],
   "source": [
    "df.head()"
   ]
  },
  {
   "cell_type": "code",
   "execution_count": null,
   "metadata": {},
   "outputs": [],
   "source": [
    "y = df['class']\n",
    "\n",
    "# To keep things simple, we'll use only numerical predictors\n",
    "X = df.drop(['class'], axis=1)\n",
    "\n",
    "X_train, X_valid, y_train, y_valid = train_test_split(X, y, train_size=0.70, test_size=0.30,random_state=0)"
   ]
  },
  {
   "cell_type": "code",
   "execution_count": null,
   "metadata": {},
   "outputs": [],
   "source": []
  },
  {
   "cell_type": "code",
   "execution_count": null,
   "metadata": {},
   "outputs": [],
   "source": [
    "enc = KBinsDiscretizer(n_bins=5, encode='ordinal', strategy='kmeans')\n",
    "enc.fit(np.array(X_train['max_luminosity']).reshape(-1,1))\n",
    "X_train['max_luminosity_binned'] = enc.transform(np.array(X_train['max_luminosity']).reshape(-1,1))\n",
    "X_valid['max_luminosity_binned'] = enc.transform(np.array(X_valid['max_luminosity']).reshape(-1,1))\n"
   ]
  },
  {
   "cell_type": "code",
   "execution_count": null,
   "metadata": {},
   "outputs": [],
   "source": [
    "enc = KBinsDiscretizer(n_bins=7, encode='ordinal', strategy='kmeans')\n",
    "enc.fit(np.array(X_train['thickness']).reshape(-1,1))\n",
    "X_train['thickness_binned'] = enc.transform(np.array(X_train['thickness']).reshape(-1,1))\n",
    "X_valid['thickness_binned'] = enc.transform(np.array(X_valid['thickness']).reshape(-1,1))\n"
   ]
  },
  {
   "cell_type": "code",
   "execution_count": null,
   "metadata": {},
   "outputs": [],
   "source": [
    "X_train.head()"
   ]
  },
  {
   "cell_type": "code",
   "execution_count": null,
   "metadata": {},
   "outputs": [],
   "source": [
    "\n",
    "def targetencoding(train,test,y_train):\n",
    "    import category_encoders as ce\n",
    "    # Create the encoder itself\n",
    "    cat_features = ['max_luminosity_thickness','max_luminosity_pixel_area','thickness_pixel_area']\n",
    "    print(f'targest emcoding for features {cat_features}')\n",
    "    target_enc = ce.TargetEncoder(cols=cat_features)\n",
    "\n",
    "    \n",
    "\n",
    "    # Fit the encoder using the categorical features and target\n",
    "    target_enc.fit(train[cat_features], y_train)\n",
    "    \n",
    "\n",
    "    # Transform the features, rename the columns with _target suffix, and join to dataframe\n",
    "    traintrgtenc = train.join(target_enc.transform(train[cat_features]).add_suffix('_target'))\n",
    "    testtrgtenc = test.join(target_enc.transform(test[cat_features]).add_suffix('_target'))\n",
    "\n",
    "    traintrgtenc = traintrgtenc.drop(cat_features, axis =1)\n",
    "    testtrgtenc = testtrgtenc.drop(cat_features, axis =1)\n",
    "\n",
    "    \n",
    "    print(traintrgtenc.shape,testtrgtenc.shape)\n",
    "    \n",
    "    return traintrgtenc,testtrgtenc"
   ]
  },
  {
   "cell_type": "code",
   "execution_count": null,
   "metadata": {},
   "outputs": [],
   "source": [
    "#X_traint,X_validt = targetencoding(X_train,X_valid,y_train)"
   ]
  },
  {
   "cell_type": "code",
   "execution_count": null,
   "metadata": {},
   "outputs": [],
   "source": [
    "X_train.head()"
   ]
  },
  {
   "cell_type": "code",
   "execution_count": null,
   "metadata": {},
   "outputs": [],
   "source": [
    "from sklearn.ensemble import RandomForestClassifier\n",
    "from sklearn.metrics import log_loss\n",
    "from sklearn.metrics import classification_report\n",
    "from sklearn.metrics import confusion_matrix\n",
    "    \n",
    "# Function for comparing different approaches\n",
    "def score_dataset(X_train, X_valid, y_train, y_valid):\n",
    "    \n",
    "    \n",
    "    clf1 = svm.SVC(kernel='linear', random_state=2,probability=True)\n",
    "    clf1.fit(X_train,y_train)\n",
    "    \n",
    "    \n",
    "    preds = clf1.predict(X_valid)\n",
    "    predsforlog = clf1.predict_proba(X_valid)\n",
    "    \n",
    "    \n",
    "    target_names = ['class_0','class_1']\n",
    "    print(classification_report(y_valid, preds, target_names=target_names,labels= [1,2]))\n",
    "    \n",
    "    print(confusion_matrix(y_valid,preds))\n",
    "    return log_loss(y_valid,predsforlog) "
   ]
  },
  {
   "cell_type": "code",
   "execution_count": null,
   "metadata": {},
   "outputs": [],
   "source": []
  },
  {
   "cell_type": "code",
   "execution_count": null,
   "metadata": {},
   "outputs": [],
   "source": [
    "X_train.dtypes"
   ]
  },
  {
   "cell_type": "code",
   "execution_count": null,
   "metadata": {},
   "outputs": [],
   "source": [
    "n_folds=5\n",
    "def logloss(model):\n",
    "    kf = KFold(n_folds, shuffle=True, random_state=2).get_n_splits(X_train.values)\n",
    "    logloss= (-cross_val_score(model, X_train.values, y_train, scoring=\"neg_log_loss\", cv = kf))\n",
    "    return(logloss)"
   ]
  },
  {
   "cell_type": "code",
   "execution_count": null,
   "metadata": {},
   "outputs": [],
   "source": [
    " score_dataset(X_train,X_valid,y_train,y_valid)"
   ]
  },
  {
   "cell_type": "code",
   "execution_count": null,
   "metadata": {},
   "outputs": [],
   "source": []
  },
  {
   "cell_type": "code",
   "execution_count": null,
   "metadata": {},
   "outputs": [],
   "source": []
  },
  {
   "cell_type": "code",
   "execution_count": null,
   "metadata": {},
   "outputs": [],
   "source": [
    "l = logloss(\n",
    "        svm.SVC(random_state=2,probability=True))\n",
    "    \n",
    "print(\"(avg {0} ,std{1})\".format(l.mean(),l.std()))\n"
   ]
  },
  {
   "cell_type": "code",
   "execution_count": null,
   "metadata": {},
   "outputs": [],
   "source": []
  },
  {
   "cell_type": "code",
   "execution_count": null,
   "metadata": {},
   "outputs": [],
   "source": []
  }
 ],
 "metadata": {
  "kernelspec": {
   "display_name": "Python 3",
   "language": "python",
   "name": "python3"
  },
  "language_info": {
   "codemirror_mode": {
    "name": "ipython",
    "version": 3
   },
   "file_extension": ".py",
   "mimetype": "text/x-python",
   "name": "python",
   "nbconvert_exporter": "python",
   "pygments_lexer": "ipython3",
   "version": "3.6.9"
  }
 },
 "nbformat": 4,
 "nbformat_minor": 4
}
