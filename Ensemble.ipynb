{
 "cells": [
  {
   "cell_type": "code",
   "execution_count": 44,
   "metadata": {},
   "outputs": [],
   "source": [
    "import pandas as pd \n",
    "import numpy as np\n",
    "from sklearn.model_selection import KFold, cross_val_score, train_test_split\n",
    "from sklearn.linear_model import LogisticRegression\n",
    "from sklearn.preprocessing import KBinsDiscretizer\n",
    "from sklearn.metrics import log_loss\n",
    "\n",
    "from sklearn.ensemble import GradientBoostingClassifier , RandomForestClassifier,ExtraTreesClassifier\n",
    "from xgboost import XGBClassifier\n",
    "from lightgbm import LGBMClassifier\n",
    "from sklearn.metrics import log_loss\n",
    "from sklearn.metrics import classification_report\n",
    "from sklearn.metrics import confusion_matrix\n"
   ]
  },
  {
   "cell_type": "code",
   "execution_count": 81,
   "metadata": {},
   "outputs": [],
   "source": [
    "sf = pd.read_excel(\"../MachinehackGlassQualityPrediction/Glass_Quality_Participants_Data/Sample_Submission.xlsx\")"
   ]
  },
  {
   "cell_type": "code",
   "execution_count": 45,
   "metadata": {},
   "outputs": [],
   "source": [
    "LogisticTrain = pd.read_csv(\"../MachinehackGlassQualityPrediction/LogisticTrain.csv\")\n",
    "LogisticTest = pd.read_csv(\"../MachinehackGlassQualityPrediction/LogisticTest.csv\")\n"
   ]
  },
  {
   "cell_type": "code",
   "execution_count": 46,
   "metadata": {},
   "outputs": [],
   "source": [
    "LGBMCTrain = pd.read_csv(\"../MachinehackGlassQualityPrediction/LgbmcTrain.csv\")\n",
    "LGBMCTest = pd.read_csv(\"../MachinehackGlassQualityPrediction/LgbmcTest.csv\")\n"
   ]
  },
  {
   "cell_type": "code",
   "execution_count": 47,
   "metadata": {},
   "outputs": [],
   "source": [
    "ExtraTreeTrain = pd.read_csv(\"../MachinehackGlassQualityPrediction/ExtraTreeTrain.csv\")\n",
    "ExtraTreeTest = pd.read_csv(\"../MachinehackGlassQualityPrediction/ExtraTreeTest.csv\")\n"
   ]
  },
  {
   "cell_type": "code",
   "execution_count": 48,
   "metadata": {},
   "outputs": [],
   "source": [
    "RandomForestTrain = pd.read_csv(\"../MachinehackGlassQualityPrediction/RandomForestTrain.csv\")\n",
    "RandomForestTest = pd.read_csv(\"../MachinehackGlassQualityPrediction/RandomForestTest.csv\")\n"
   ]
  },
  {
   "cell_type": "code",
   "execution_count": null,
   "metadata": {},
   "outputs": [],
   "source": []
  },
  {
   "cell_type": "code",
   "execution_count": 49,
   "metadata": {},
   "outputs": [],
   "source": [
    "RF = RandomForestClassifier(bootstrap=True, ccp_alpha=0.0, class_weight=None,\n",
    "                       criterion='entropy', max_depth=None, max_features='auto',\n",
    "                       max_leaf_nodes=None, max_samples=None,\n",
    "                       min_impurity_decrease=0.0, min_impurity_split=None,\n",
    "                       min_samples_leaf=2, min_samples_split=2,\n",
    "                       min_weight_fraction_leaf=0.0, n_estimators=100,\n",
    "                       n_jobs=-1, oob_score=True, random_state=2, verbose=0,\n",
    "                       warm_start=True) \n",
    "       \n",
    "LGBMC =LGBMClassifier( boosting_type='gbdt', class_weight=None, colsample_bytree=1.0,\n",
    "               importance_type='split', learning_rate=0.01, max_depth=-1,\n",
    "               min_child_samples=20, min_child_weight=0.001, min_split_gain=0.0,\n",
    "               n_estimators = 400, n_jobs=-1, num_leaves=15, objective='binary',\n",
    "               random_state=2, reg_alpha=0.0, reg_lambda=0.0, silent=True,\n",
    "               subsample=1.0, subsample_for_bin=200000, subsample_freq=0)\n",
    "\n",
    "\n",
    "ET =ExtraTreesClassifier(bootstrap=False, ccp_alpha=0.0, class_weight=None,\n",
    "                     criterion='gini', max_depth=None, max_features='auto',\n",
    "                     max_leaf_nodes=None, max_samples=None,\n",
    "                     min_impurity_decrease=0.0, min_impurity_split=None,\n",
    "                     min_samples_leaf=1, min_samples_split=2,\n",
    "                     min_weight_fraction_leaf=0.0, n_estimators=100,\n",
    "                     n_jobs=None, oob_score=False, random_state=2, verbose=0,\n",
    "                     warm_start=False)\n",
    "\n",
    "\n",
    "\n",
    "LR =LogisticRegression(C=10,penalty='l1',solver='liblinear',max_iter=200)\n",
    "\n",
    "\n",
    "#clf5 = BaggingClassifier(random_state=2)\n",
    "\n",
    "#clf6 = KNeighborsClassifier(n_neighbors=5)\n",
    "\n",
    "#clf7 = SGDClassifier(random_state=2)"
   ]
  },
  {
   "cell_type": "code",
   "execution_count": 50,
   "metadata": {},
   "outputs": [],
   "source": [
    "X = LogisticTrain.drop('class', axis=1)\n",
    "y = LogisticTrain['class']\n",
    "\n",
    "LR.fit(X,y)\n",
    "predTLR = LR.predict_proba(X)\n",
    "predLR = LR.predict_proba(LogisticTest)"
   ]
  },
  {
   "cell_type": "code",
   "execution_count": null,
   "metadata": {},
   "outputs": [],
   "source": []
  },
  {
   "cell_type": "code",
   "execution_count": 51,
   "metadata": {},
   "outputs": [],
   "source": [
    "X = LGBMCTrain.drop('class', axis=1)\n",
    "y = LGBMCTrain['class']\n",
    "\n",
    "LGBMC.fit(X,y)\n",
    "predTLGBMC = LGBMC.predict_proba(X)\n",
    "predLGBMC = LGBMC.predict_proba(LGBMCTest)"
   ]
  },
  {
   "cell_type": "code",
   "execution_count": null,
   "metadata": {},
   "outputs": [],
   "source": []
  },
  {
   "cell_type": "code",
   "execution_count": 53,
   "metadata": {},
   "outputs": [],
   "source": [
    "X = ExtraTreeTrain.drop('class', axis=1)\n",
    "y = ExtraTreeTrain['class']\n",
    "\n",
    "ET.fit(X,y)\n",
    "\n",
    "predTET = ET.predict_proba(X)\n",
    "predET = ET.predict_proba(ExtraTreeTest)"
   ]
  },
  {
   "cell_type": "code",
   "execution_count": 54,
   "metadata": {},
   "outputs": [],
   "source": [
    "X = RandomForestTrain.drop('class', axis=1)\n",
    "y = RandomForestTrain['class']\n",
    "\n",
    "RF.fit(X,y)\n",
    "\n",
    "predTRF = RF.predict_proba(X)\n",
    "predRF = RF.predict_proba(RandomForestTest)"
   ]
  },
  {
   "cell_type": "code",
   "execution_count": null,
   "metadata": {},
   "outputs": [],
   "source": []
  },
  {
   "cell_type": "code",
   "execution_count": 87,
   "metadata": {},
   "outputs": [
    {
     "name": "stdout",
     "output_type": "stream",
     "text": [
      "0.09166157479075886\n"
     ]
    }
   ],
   "source": [
    "print(log_loss(y, predTET*0.50 + predTLGBMC*0.15 + predTLR*0.20 + predTRF*0.15))"
   ]
  },
  {
   "cell_type": "code",
   "execution_count": null,
   "metadata": {},
   "outputs": [],
   "source": []
  },
  {
   "cell_type": "code",
   "execution_count": null,
   "metadata": {},
   "outputs": [],
   "source": []
  },
  {
   "cell_type": "code",
   "execution_count": null,
   "metadata": {},
   "outputs": [],
   "source": []
  },
  {
   "cell_type": "code",
   "execution_count": null,
   "metadata": {},
   "outputs": [],
   "source": []
  },
  {
   "cell_type": "code",
   "execution_count": 88,
   "metadata": {},
   "outputs": [],
   "source": [
    "ensemble = predET*0.50 + predLGBMC*0.15 + predLR*0.20 + predRF*0.15"
   ]
  },
  {
   "cell_type": "code",
   "execution_count": 89,
   "metadata": {},
   "outputs": [],
   "source": [
    "prediction = pd.DataFrame(data =ensemble, columns=sf.columns)\n",
    "prediction.to_excel('../MachinehackGlassQualityPrediction/ENSEMBLE.xlsx')\n"
   ]
  },
  {
   "cell_type": "code",
   "execution_count": null,
   "metadata": {},
   "outputs": [],
   "source": []
  }
 ],
 "metadata": {
  "kernelspec": {
   "display_name": "Python 3",
   "language": "python",
   "name": "python3"
  },
  "language_info": {
   "codemirror_mode": {
    "name": "ipython",
    "version": 3
   },
   "file_extension": ".py",
   "mimetype": "text/x-python",
   "name": "python",
   "nbconvert_exporter": "python",
   "pygments_lexer": "ipython3",
   "version": "3.6.9"
  }
 },
 "nbformat": 4,
 "nbformat_minor": 4
}
