{
 "cells": [
  {
   "cell_type": "code",
   "execution_count": 10,
   "metadata": {},
   "outputs": [],
   "source": [
    "import pandas as pd \n",
    "import numpy as np\n",
    "from sklearn.model_selection import train_test_split\n",
    "from sklearn.linear_model import LogisticRegression\n",
    "from sklearn.preprocessing import KBinsDiscretizer"
   ]
  },
  {
   "cell_type": "code",
   "execution_count": 11,
   "metadata": {},
   "outputs": [],
   "source": [
    "df = pd.read_csv(\"../MachinehackGlassQualityPrediction/Glass_Quality_Participants_Data/Train.csv\")\n",
    "tf = pd.read_csv(\"../MachinehackGlassQualityPrediction/Glass_Quality_Participants_Data/Test.csv\")\n",
    "\n",
    "sf = pd.read_excel(\"../MachinehackGlassQualityPrediction/Glass_Quality_Participants_Data/Sample_Submission.xlsx\")\n"
   ]
  },
  {
   "cell_type": "code",
   "execution_count": 12,
   "metadata": {},
   "outputs": [],
   "source": [
    "df['xmax'] = np.sqrt(df['xmax'])\n",
    "df['ymax'] = np.sqrt(df['ymax'])\n",
    "df['xmin'] = np.sqrt(df['xmin'])\n",
    "df['ymin'] = np.sqrt(df['ymin'])\n",
    "\n",
    "df['max_luminosity'] = np.log(df['max_luminosity'])\n",
    "df['pixel_area'] = np.sqrt(df['pixel_area'])\n",
    "df['log_area'] = np.sqrt(df['log_area'])\n",
    "\n",
    "tf['xmax'] = np.sqrt(tf['xmax'])\n",
    "tf['ymax'] = np.sqrt(tf['ymax'])\n",
    "tf['xmin'] = np.sqrt(tf['xmin'])\n",
    "tf['ymin'] = np.sqrt(tf['ymin'])\n",
    "\n",
    "tf['max_luminosity'] = np.log(tf['max_luminosity'])\n",
    "tf['pixel_area'] = np.sqrt(tf['pixel_area'])\n",
    "tf['log_area'] = np.sqrt(tf['log_area'])\n",
    "\n"
   ]
  },
  {
   "cell_type": "code",
   "execution_count": 13,
   "metadata": {},
   "outputs": [],
   "source": [
    "df =df.drop('log_area',axis=1)\n",
    "tf=tf.drop('log_area',axis=1)"
   ]
  },
  {
   "cell_type": "code",
   "execution_count": null,
   "metadata": {},
   "outputs": [],
   "source": []
  },
  {
   "cell_type": "code",
   "execution_count": 14,
   "metadata": {},
   "outputs": [],
   "source": [
    "enc = KBinsDiscretizer(n_bins=11, encode='ordinal', strategy='kmeans')\n",
    "enc.fit(np.array(df['max_luminosity']).reshape(-1,1))\n",
    "df['max_luminosity_binned'] = enc.transform(np.array(df['max_luminosity']).reshape(-1,1))\n",
    "tf['max_luminosity_binned'] = enc.transform(np.array(tf['max_luminosity']).reshape(-1,1))\n"
   ]
  },
  {
   "cell_type": "code",
   "execution_count": 15,
   "metadata": {},
   "outputs": [],
   "source": [
    "enc = KBinsDiscretizer(n_bins=7, encode='ordinal', strategy='kmeans')\n",
    "enc.fit(np.array(df['thickness']).reshape(-1,1))\n",
    "df['thickness_binned'] = enc.transform(np.array(df['thickness']).reshape(-1,1))\n",
    "tf['thickness_binned'] = enc.transform(np.array(tf['thickness']).reshape(-1,1))\n"
   ]
  },
  {
   "cell_type": "code",
   "execution_count": 16,
   "metadata": {},
   "outputs": [],
   "source": [
    "df.to_csv('../MachinehackGlassQualityPrediction/LogisticTrain.csv', index=False)\n",
    "tf.to_csv('../MachinehackGlassQualityPrediction/LogisticTest.csv', index =False)\n"
   ]
  },
  {
   "cell_type": "code",
   "execution_count": 17,
   "metadata": {},
   "outputs": [],
   "source": [
    "# from sklearn import preprocessing\n",
    "# scaler = preprocessing.StandardScaler().fit(X)\n",
    "# X=scaler.transform(X)\n",
    "# t = scaler.transform(tf)"
   ]
  },
  {
   "cell_type": "code",
   "execution_count": 18,
   "metadata": {},
   "outputs": [],
   "source": [
    "y = df['class']\n",
    "X = df.drop('class',axis=1)"
   ]
  },
  {
   "cell_type": "code",
   "execution_count": null,
   "metadata": {},
   "outputs": [],
   "source": []
  },
  {
   "cell_type": "code",
   "execution_count": null,
   "metadata": {},
   "outputs": [],
   "source": []
  },
  {
   "cell_type": "code",
   "execution_count": 21,
   "metadata": {},
   "outputs": [],
   "source": [
    "model = LogisticRegression(C=10,penalty='l1',solver='liblinear',max_iter=200)"
   ]
  },
  {
   "cell_type": "code",
   "execution_count": 22,
   "metadata": {},
   "outputs": [
    {
     "data": {
      "text/plain": [
       "LogisticRegression(C=10, class_weight=None, dual=False, fit_intercept=True,\n",
       "                   intercept_scaling=1, l1_ratio=None, max_iter=200,\n",
       "                   multi_class='auto', n_jobs=None, penalty='l1',\n",
       "                   random_state=None, solver='liblinear', tol=0.0001, verbose=0,\n",
       "                   warm_start=False)"
      ]
     },
     "execution_count": 22,
     "metadata": {},
     "output_type": "execute_result"
    }
   ],
   "source": [
    "model.fit(X,y)"
   ]
  },
  {
   "cell_type": "code",
   "execution_count": 23,
   "metadata": {},
   "outputs": [],
   "source": [
    "\n",
    "pred = model.predict_proba(tf)"
   ]
  },
  {
   "cell_type": "code",
   "execution_count": 24,
   "metadata": {},
   "outputs": [],
   "source": [
    "prediction = pd.DataFrame(data =pred, columns=sf.columns)"
   ]
  },
  {
   "cell_type": "code",
   "execution_count": 25,
   "metadata": {},
   "outputs": [],
   "source": [
    "prediction.to_excel('../MachinehackGlassQualityPrediction/logistic.xlsx')"
   ]
  },
  {
   "cell_type": "code",
   "execution_count": null,
   "metadata": {},
   "outputs": [],
   "source": []
  }
 ],
 "metadata": {
  "kernelspec": {
   "display_name": "Python 3",
   "language": "python",
   "name": "python3"
  },
  "language_info": {
   "codemirror_mode": {
    "name": "ipython",
    "version": 3
   },
   "file_extension": ".py",
   "mimetype": "text/x-python",
   "name": "python",
   "nbconvert_exporter": "python",
   "pygments_lexer": "ipython3",
   "version": "3.6.9"
  }
 },
 "nbformat": 4,
 "nbformat_minor": 4
}
