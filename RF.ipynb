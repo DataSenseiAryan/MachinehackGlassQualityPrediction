{
 "cells": [
  {
   "cell_type": "code",
   "execution_count": 8,
   "metadata": {},
   "outputs": [],
   "source": [
    "import pandas as pd \n",
    "import numpy as np\n",
    "from sklearn.model_selection import train_test_split\n",
    "from sklearn.preprocessing import KBinsDiscretizer\n",
    "from sklearn.ensemble import RandomForestClassifier\n"
   ]
  },
  {
   "cell_type": "code",
   "execution_count": 9,
   "metadata": {},
   "outputs": [],
   "source": [
    "df = pd.read_csv(\"../MachinehackGlassQualityPrediction/Glass_Quality_Participants_Data/Train.csv\")\n",
    "tf = pd.read_csv(\"../MachinehackGlassQualityPrediction/Glass_Quality_Participants_Data/Test.csv\")\n",
    "\n",
    "sf = pd.read_excel(\"../MachinehackGlassQualityPrediction/Glass_Quality_Participants_Data/Sample_Submission.xlsx\")\n"
   ]
  },
  {
   "cell_type": "code",
   "execution_count": 10,
   "metadata": {},
   "outputs": [],
   "source": [
    "# df['xmax'] = np.sqrt(df['xmax'])\n",
    "# df['ymax'] = np.sqrt(df['ymax'])\n",
    "# df['xmin'] = np.sqrt(df['xmin'])\n",
    "# df['ymin'] = np.sqrt(df['ymin'])\n",
    "\n",
    "# df['max_luminosity'] = np.log(df['max_luminosity'])\n",
    "# df['pixel_area'] = np.sqrt(df['pixel_area'])\n",
    "# df['log_area'] = np.sqrt(df['log_area'])\n",
    "\n",
    "# tf['xmax'] = np.sqrt(tf['xmax'])\n",
    "# tf['ymax'] = np.sqrt(tf['ymax'])\n",
    "# tf['xmin'] = np.sqrt(tf['xmin'])\n",
    "# tf['ymin'] = np.sqrt(tf['ymin'])\n",
    "\n",
    "# tf['max_luminosity'] = np.log(tf['max_luminosity'])\n",
    "# tf['pixel_area'] = np.sqrt(tf['pixel_area'])\n",
    "# tf['log_area'] = np.sqrt(tf['log_area'])\n",
    "\n"
   ]
  },
  {
   "cell_type": "code",
   "execution_count": null,
   "metadata": {},
   "outputs": [],
   "source": []
  },
  {
   "cell_type": "code",
   "execution_count": 11,
   "metadata": {},
   "outputs": [],
   "source": [
    "enc = KBinsDiscretizer(n_bins=5, encode='ordinal', strategy='kmeans')\n",
    "enc.fit(np.array(df['max_luminosity']).reshape(-1,1))\n",
    "df['max_luminosity_binned'] = enc.transform(np.array(df['max_luminosity']).reshape(-1,1))\n",
    "tf['max_luminosity_binned'] = enc.transform(np.array(tf['max_luminosity']).reshape(-1,1))\n"
   ]
  },
  {
   "cell_type": "code",
   "execution_count": 13,
   "metadata": {},
   "outputs": [],
   "source": [
    "df.to_csv('../MachinehackGlassQualityPrediction/RandomForestTrain.csv', index=False)\n",
    "tf.to_csv('../MachinehackGlassQualityPrediction/RandomForestTest.csv', index=False)\n"
   ]
  },
  {
   "cell_type": "code",
   "execution_count": 59,
   "metadata": {},
   "outputs": [],
   "source": [
    "y = df['class']\n",
    "X = df.drop('class',axis=1)"
   ]
  },
  {
   "cell_type": "code",
   "execution_count": 46,
   "metadata": {},
   "outputs": [],
   "source": [
    "RF500 = RandomForestClassifier(bootstrap=True, ccp_alpha=0.0, class_weight=None,\n",
    "                       criterion='entropy', max_depth=None, max_features='auto',\n",
    "                       max_leaf_nodes=None, max_samples=None,\n",
    "                       min_impurity_decrease=0.0, min_impurity_split=None,\n",
    "                       min_samples_leaf=2, min_samples_split=2,\n",
    "                       min_weight_fraction_leaf=0.0, n_estimators=500,\n",
    "                       n_jobs=-1, oob_score=True, random_state=2, verbose=0,\n",
    "                       warm_start=True) \n",
    "           "
   ]
  },
  {
   "cell_type": "code",
   "execution_count": 54,
   "metadata": {},
   "outputs": [],
   "source": [
    "RF100 = RandomForestClassifier(bootstrap=True, ccp_alpha=0.0, class_weight=None,\n",
    "                       criterion='entropy', max_depth=None, max_features='auto',\n",
    "                       max_leaf_nodes=None, max_samples=None,\n",
    "                       min_impurity_decrease=0.0, min_impurity_split=None,\n",
    "                       min_samples_leaf=2, min_samples_split=2,\n",
    "                       min_weight_fraction_leaf=0.0, n_estimators=100,\n",
    "                       n_jobs=-1, oob_score=True, random_state=2, verbose=0,\n",
    "                       warm_start=True) \n",
    "           "
   ]
  },
  {
   "cell_type": "code",
   "execution_count": 60,
   "metadata": {},
   "outputs": [],
   "source": [
    "RF2 = RandomForestClassifier(random_state=2)"
   ]
  },
  {
   "cell_type": "code",
   "execution_count": 49,
   "metadata": {},
   "outputs": [],
   "source": [
    "RF500.fit(X,y)\n",
    "pred500 = RF500.predict_proba(tf)\n",
    "prediction500 = pd.DataFrame(data =pred500, columns=sf.columns)\n",
    "prediction500.to_excel('../MachinehackGlassQualityPrediction/RF500.xlsx')\n"
   ]
  },
  {
   "cell_type": "code",
   "execution_count": null,
   "metadata": {},
   "outputs": [],
   "source": []
  },
  {
   "cell_type": "code",
   "execution_count": 55,
   "metadata": {},
   "outputs": [],
   "source": [
    "RF100.fit(X,y)\n",
    "pred100 = RF100.predict_proba(tf)\n",
    "prediction100 = pd.DataFrame(data =pred100, columns=sf.columns)\n",
    "prediction100.to_excel('../MachinehackGlassQualityPrediction/RF100.xlsx')\n"
   ]
  },
  {
   "cell_type": "code",
   "execution_count": 61,
   "metadata": {},
   "outputs": [],
   "source": [
    "RF2.fit(X,y)\n",
    "pred2 = RF2.predict_proba(tf)\n",
    "prediction2 = pd.DataFrame(data =pred2, columns=sf.columns)\n",
    "prediction2.to_excel('../MachinehackGlassQualityPrediction/RF2.xlsx')\n"
   ]
  },
  {
   "cell_type": "code",
   "execution_count": null,
   "metadata": {},
   "outputs": [],
   "source": []
  }
 ],
 "metadata": {
  "kernelspec": {
   "display_name": "Python 3",
   "language": "python",
   "name": "python3"
  },
  "language_info": {
   "codemirror_mode": {
    "name": "ipython",
    "version": 3
   },
   "file_extension": ".py",
   "mimetype": "text/x-python",
   "name": "python",
   "nbconvert_exporter": "python",
   "pygments_lexer": "ipython3",
   "version": "3.6.9"
  }
 },
 "nbformat": 4,
 "nbformat_minor": 4
}
